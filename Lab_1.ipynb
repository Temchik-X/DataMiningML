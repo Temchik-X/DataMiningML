{
 "cells": [
  {
   "cell_type": "markdown",
   "id": "3939e0a8-e08c-4a1f-82ee-2c815e582218",
   "metadata": {},
   "source": [
    "<br>\n",
    "Загружаем пакеты и исходные данные"
   ]
  },
  {
   "cell_type": "code",
   "execution_count": 3,
   "id": "3f008c11-ec3d-4e44-93a5-20cce2beecce",
   "metadata": {
    "scrolled": true
   },
   "outputs": [
    {
     "data": {
      "text/html": [
       "<div>\n",
       "<style scoped>\n",
       "    .dataframe tbody tr th:only-of-type {\n",
       "        vertical-align: middle;\n",
       "    }\n",
       "\n",
       "    .dataframe tbody tr th {\n",
       "        vertical-align: top;\n",
       "    }\n",
       "\n",
       "    .dataframe thead th {\n",
       "        text-align: right;\n",
       "    }\n",
       "</style>\n",
       "<table border=\"1\" class=\"dataframe\">\n",
       "  <thead>\n",
       "    <tr style=\"text-align: right;\">\n",
       "      <th></th>\n",
       "      <th>Unnamed: 0</th>\n",
       "      <th>R&amp;D Spend</th>\n",
       "      <th>Administration</th>\n",
       "      <th>Marketing Spend</th>\n",
       "      <th>State</th>\n",
       "      <th>Profit</th>\n",
       "    </tr>\n",
       "  </thead>\n",
       "  <tbody>\n",
       "    <tr>\n",
       "      <th>0</th>\n",
       "      <td>0</td>\n",
       "      <td>165349.20</td>\n",
       "      <td>136897.80</td>\n",
       "      <td>471784.10</td>\n",
       "      <td>New York</td>\n",
       "      <td>192261.83</td>\n",
       "    </tr>\n",
       "    <tr>\n",
       "      <th>1</th>\n",
       "      <td>1</td>\n",
       "      <td>162597.70</td>\n",
       "      <td>151377.59</td>\n",
       "      <td>443898.53</td>\n",
       "      <td>California</td>\n",
       "      <td>191792.06</td>\n",
       "    </tr>\n",
       "    <tr>\n",
       "      <th>2</th>\n",
       "      <td>2</td>\n",
       "      <td>153441.51</td>\n",
       "      <td>NaN</td>\n",
       "      <td>407934.54</td>\n",
       "      <td>Florida</td>\n",
       "      <td>191050.39</td>\n",
       "    </tr>\n",
       "    <tr>\n",
       "      <th>3</th>\n",
       "      <td>3</td>\n",
       "      <td>144372.41</td>\n",
       "      <td>NaN</td>\n",
       "      <td>383199.62</td>\n",
       "      <td>New York</td>\n",
       "      <td>182901.99</td>\n",
       "    </tr>\n",
       "    <tr>\n",
       "      <th>4</th>\n",
       "      <td>4</td>\n",
       "      <td>142107.34</td>\n",
       "      <td>91391.77</td>\n",
       "      <td>366168.42</td>\n",
       "      <td>Florida</td>\n",
       "      <td>166187.94</td>\n",
       "    </tr>\n",
       "  </tbody>\n",
       "</table>\n",
       "</div>"
      ],
      "text/plain": [
       "   Unnamed: 0  R&D Spend  Administration  Marketing Spend       State  \\\n",
       "0           0  165349.20       136897.80        471784.10    New York   \n",
       "1           1  162597.70       151377.59        443898.53  California   \n",
       "2           2  153441.51             NaN        407934.54     Florida   \n",
       "3           3  144372.41             NaN        383199.62    New York   \n",
       "4           4  142107.34        91391.77        366168.42     Florida   \n",
       "\n",
       "      Profit  \n",
       "0  192261.83  \n",
       "1  191792.06  \n",
       "2  191050.39  \n",
       "3  182901.99  \n",
       "4  166187.94  "
      ]
     },
     "execution_count": 3,
     "metadata": {},
     "output_type": "execute_result"
    }
   ],
   "source": [
    "import pandas as pd\n",
    "\n",
    "# Загрузка данных из файла CSV\n",
    "dataset = pd.read_csv('V3_dataset.csv')\n",
    "\n",
    "# Печать первых 5 строк данных, чтобы проверить, как они выглядят\n",
    "dataset.head()"
   ]
  },
  {
   "cell_type": "markdown",
   "id": "7ca44bdd-0767-4011-9c76-b99748a3fcef",
   "metadata": {},
   "source": [
    "---\n",
    "## Ознакомление с данными с помощью методов описательной статистики"
   ]
  },
  {
   "cell_type": "markdown",
   "id": "cf64e8a9-a06b-47f9-b449-7add2aa5a32a",
   "metadata": {},
   "source": [
    "<br>\n",
    "Определяем размерность набора данных:"
   ]
  },
  {
   "cell_type": "code",
   "execution_count": 4,
   "id": "27595b5e-5b0f-4b11-a777-033626b59067",
   "metadata": {},
   "outputs": [
    {
     "data": {
      "text/plain": [
       "(50, 6)"
      ]
     },
     "execution_count": 4,
     "metadata": {},
     "output_type": "execute_result"
    }
   ],
   "source": [
    "dataset.shape"
   ]
  },
  {
   "cell_type": "markdown",
   "id": "94e8c7e4-282b-4caa-83dc-7724f54e53ca",
   "metadata": {},
   "source": [
    "<br>\n",
    "Определяем типы атрибутов в данных:"
   ]
  },
  {
   "cell_type": "code",
   "execution_count": 5,
   "id": "309b3a01-2f5d-42c2-84ca-68aa2a543ac9",
   "metadata": {},
   "outputs": [
    {
     "data": {
      "text/plain": [
       "Unnamed: 0           int64\n",
       "R&D Spend          float64\n",
       "Administration     float64\n",
       "Marketing Spend    float64\n",
       "State               object\n",
       "Profit             float64\n",
       "dtype: object"
      ]
     },
     "execution_count": 5,
     "metadata": {},
     "output_type": "execute_result"
    }
   ],
   "source": [
    "dataset.dtypes"
   ]
  },
  {
   "cell_type": "markdown",
   "id": "15735ef8-7f3f-435e-baac-e5e7c210d454",
   "metadata": {},
   "source": [
    "<br>\n",
    "Посмотрим информацию о нашем DataFrame, обратим внимание на количество ненулевых значений:"
   ]
  },
  {
   "cell_type": "code",
   "execution_count": 6,
   "id": "4e778502-d680-4389-8bc0-88cd4b9117dc",
   "metadata": {},
   "outputs": [
    {
     "name": "stdout",
     "output_type": "stream",
     "text": [
      "<class 'pandas.core.frame.DataFrame'>\n",
      "RangeIndex: 50 entries, 0 to 49\n",
      "Data columns (total 6 columns):\n",
      " #   Column           Non-Null Count  Dtype  \n",
      "---  ------           --------------  -----  \n",
      " 0   Unnamed: 0       50 non-null     int64  \n",
      " 1   R&D Spend        50 non-null     float64\n",
      " 2   Administration   27 non-null     float64\n",
      " 3   Marketing Spend  50 non-null     float64\n",
      " 4   State            50 non-null     object \n",
      " 5   Profit           50 non-null     float64\n",
      "dtypes: float64(4), int64(1), object(1)\n",
      "memory usage: 2.5+ KB\n"
     ]
    }
   ],
   "source": [
    "dataset.info()"
   ]
  },
  {
   "cell_type": "markdown",
   "id": "1f7f4925-20ca-4b7e-bd49-6241e09f1de9",
   "metadata": {},
   "source": [
    "<br>\n",
    "Столбец \"State\" представляет собой категориальный атрибут. Выясним, какие государства государства представлены в выборке, и сколько стартапов от каждого государства представлено:"
   ]
  },
  {
   "cell_type": "code",
   "execution_count": 33,
   "id": "30494761-f31b-4540-b9d2-bf7549b62bf7",
   "metadata": {},
   "outputs": [
    {
     "data": {
      "text/plain": [
       "State\n",
       "New York      17\n",
       "California    17\n",
       "Florida       16\n",
       "Name: count, dtype: int64"
      ]
     },
     "execution_count": 33,
     "metadata": {},
     "output_type": "execute_result"
    }
   ],
   "source": [
    "dataset[\"State\"].value_counts()"
   ]
  },
  {
   "cell_type": "markdown",
   "id": "0ea90dce-78f3-4636-87d1-957f8ee4bc36",
   "metadata": {},
   "source": [
    "<br>\n",
    "Отобразим сводку по числовым атрибутам:"
   ]
  },
  {
   "cell_type": "code",
   "execution_count": 36,
   "id": "861a4342-1f1c-4a76-8463-a91da5082bae",
   "metadata": {},
   "outputs": [
    {
     "data": {
      "text/html": [
       "<div>\n",
       "<style scoped>\n",
       "    .dataframe tbody tr th:only-of-type {\n",
       "        vertical-align: middle;\n",
       "    }\n",
       "\n",
       "    .dataframe tbody tr th {\n",
       "        vertical-align: top;\n",
       "    }\n",
       "\n",
       "    .dataframe thead th {\n",
       "        text-align: right;\n",
       "    }\n",
       "</style>\n",
       "<table border=\"1\" class=\"dataframe\">\n",
       "  <thead>\n",
       "    <tr style=\"text-align: right;\">\n",
       "      <th></th>\n",
       "      <th>Unnamed: 0</th>\n",
       "      <th>R&amp;D Spend</th>\n",
       "      <th>Administration</th>\n",
       "      <th>Marketing Spend</th>\n",
       "      <th>Profit</th>\n",
       "    </tr>\n",
       "  </thead>\n",
       "  <tbody>\n",
       "    <tr>\n",
       "      <th>count</th>\n",
       "      <td>50.000</td>\n",
       "      <td>50.000</td>\n",
       "      <td>27.000</td>\n",
       "      <td>50.000</td>\n",
       "      <td>50.000</td>\n",
       "    </tr>\n",
       "    <tr>\n",
       "      <th>mean</th>\n",
       "      <td>24.500</td>\n",
       "      <td>73721.616</td>\n",
       "      <td>125206.423</td>\n",
       "      <td>211025.098</td>\n",
       "      <td>112012.639</td>\n",
       "    </tr>\n",
       "    <tr>\n",
       "      <th>std</th>\n",
       "      <td>14.577</td>\n",
       "      <td>45902.256</td>\n",
       "      <td>30085.898</td>\n",
       "      <td>122290.311</td>\n",
       "      <td>40306.180</td>\n",
       "    </tr>\n",
       "    <tr>\n",
       "      <th>min</th>\n",
       "      <td>0.000</td>\n",
       "      <td>0.000</td>\n",
       "      <td>51743.150</td>\n",
       "      <td>0.000</td>\n",
       "      <td>14681.400</td>\n",
       "    </tr>\n",
       "    <tr>\n",
       "      <th>25%</th>\n",
       "      <td>12.250</td>\n",
       "      <td>39936.370</td>\n",
       "      <td>99548.025</td>\n",
       "      <td>129300.133</td>\n",
       "      <td>90138.902</td>\n",
       "    </tr>\n",
       "    <tr>\n",
       "      <th>50%</th>\n",
       "      <td>24.500</td>\n",
       "      <td>73051.080</td>\n",
       "      <td>129219.610</td>\n",
       "      <td>212716.240</td>\n",
       "      <td>107978.190</td>\n",
       "    </tr>\n",
       "    <tr>\n",
       "      <th>75%</th>\n",
       "      <td>36.750</td>\n",
       "      <td>101602.800</td>\n",
       "      <td>147958.910</td>\n",
       "      <td>299469.085</td>\n",
       "      <td>139765.977</td>\n",
       "    </tr>\n",
       "    <tr>\n",
       "      <th>max</th>\n",
       "      <td>49.000</td>\n",
       "      <td>165349.200</td>\n",
       "      <td>182645.560</td>\n",
       "      <td>471784.100</td>\n",
       "      <td>192261.830</td>\n",
       "    </tr>\n",
       "  </tbody>\n",
       "</table>\n",
       "</div>"
      ],
      "text/plain": [
       "       Unnamed: 0   R&D Spend  Administration  Marketing Spend      Profit\n",
       "count      50.000      50.000          27.000           50.000      50.000\n",
       "mean       24.500   73721.616      125206.423       211025.098  112012.639\n",
       "std        14.577   45902.256       30085.898       122290.311   40306.180\n",
       "min         0.000       0.000       51743.150            0.000   14681.400\n",
       "25%        12.250   39936.370       99548.025       129300.133   90138.902\n",
       "50%        24.500   73051.080      129219.610       212716.240  107978.190\n",
       "75%        36.750  101602.800      147958.910       299469.085  139765.977\n",
       "max        49.000  165349.200      182645.560       471784.100  192261.830"
      ]
     },
     "execution_count": 36,
     "metadata": {},
     "output_type": "execute_result"
    }
   ],
   "source": [
    "from pandas import set_option\n",
    "set_option('display.precision', 3)\n",
    "dataset.describe()"
   ]
  },
  {
   "cell_type": "markdown",
   "id": "1fca8aab-59a5-48d7-ac06-989326ed363a",
   "metadata": {},
   "source": [
    "###### count - сумма; mean - среднее арифметическое; std - стандартное отклоение (корень из дисперсии)min - минимальное значение; max - максимальное значение; 25% - первый квартиль (Q1) - значение, ниже которого лежит 25% данных; 50% - второй квартиль; 75% - третий квартиль;"
   ]
  },
  {
   "cell_type": "markdown",
   "id": "96d5806a-1a51-4f73-9882-c90775b91478",
   "metadata": {},
   "source": [
    "---\n",
    "## Визуализация данных"
   ]
  },
  {
   "cell_type": "markdown",
   "id": "61c43828-429d-4c5f-ae27-beb470386e32",
   "metadata": {},
   "source": [
    "- Одномерная"
   ]
  },
  {
   "cell_type": "code",
   "execution_count": 48,
   "id": "d5277367-9f58-47e9-b2a9-724308b466d7",
   "metadata": {},
   "outputs": [
    {
     "data": {
      "image/png": "[encoded data removed]",
      "text/plain": [
       "<Figure size 2000x1500 with 6 Axes>"
      ]
     },
     "metadata": {},
     "output_type": "display_data"
    }
   ],
   "source": [
    "from IPython import get_ipython\n",
    "get_ipython().run_line_magic('matplotlib', 'inline')\n",
    "%matplotlib inline\n",
    "import matplotlib.pyplot as plt\n",
    "\n",
    "\n",
    "dataset.hist(bins = 5, figsize = (20,15))\n",
    "plt.show()\n",
    "\n",
    "\n"
   ]
  },
  {
   "cell_type": "code",
   "execution_count": null,
   "id": "c0cfb1af-717b-4a00-af12-8ef889c0cf94",
   "metadata": {},
   "outputs": [],
   "source": []
  },
  {
   "cell_type": "code",
   "execution_count": null,
   "id": "9d684b3c-6df1-46fc-9d84-25d4988dee9b",
   "metadata": {},
   "outputs": [],
   "source": []
  },
  {
   "cell_type": "code",
   "execution_count": null,
   "id": "87f4a2c4-43df-417d-90c7-650e68e95b7f",
   "metadata": {},
   "outputs": [],
   "source": []
  },
  {
   "cell_type": "code",
   "execution_count": null,
   "id": "49ea1c43-9658-4dc5-92f1-c2af30c24915",
   "metadata": {},
   "outputs": [],
   "source": []
  }
 ],
 "metadata": {
  "kernelspec": {
   "display_name": "Python 3",
   "language": "python",
   "name": "python3"
  },
  "language_info": {
   "codemirror_mode": {
    "name": "ipython",
    "version": 3
   },
   "file_extension": ".py",
   "mimetype": "text/x-python",
   "name": "python",
   "nbconvert_exporter": "python",
   "pygments_lexer": "ipython3",
   "version": "3.12.2"
  }
 },
 "nbformat": 4,
 "nbformat_minor": 5
}
